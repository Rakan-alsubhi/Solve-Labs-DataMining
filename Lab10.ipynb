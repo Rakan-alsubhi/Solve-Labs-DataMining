{
 "cells": [
  {
   "cell_type": "markdown",
   "metadata": {},
   "source": [
    "# 1. Linear Regression "
   ]
  },
  {
   "cell_type": "code",
   "execution_count": 9,
   "metadata": {},
   "outputs": [],
   "source": [
    "import numpy as np\n",
    "import matplotlib.pyplot as plt # maybe not nessosery\n",
    "import pandas as pd"
   ]
  },
  {
   "cell_type": "markdown",
   "metadata": {},
   "source": [
    "# Exercise 1.1"
   ]
  },
  {
   "cell_type": "code",
   "execution_count": 10,
   "metadata": {},
   "outputs": [],
   "source": [
    "from sklearn import datasets\n",
    "dataset= datasets.load_iris()\n",
    "df= pd.DataFrame(dataset['data'], \n",
    "                 columns=['sepal length (cm)', 'sepal width (cm)', 'petal length (cm)', 'petal width (cm)'])"
   ]
  },
  {
   "cell_type": "code",
   "execution_count": 11,
   "metadata": {},
   "outputs": [
    {
     "data": {
      "text/html": [
       "<div>\n",
       "<style scoped>\n",
       "    .dataframe tbody tr th:only-of-type {\n",
       "        vertical-align: middle;\n",
       "    }\n",
       "\n",
       "    .dataframe tbody tr th {\n",
       "        vertical-align: top;\n",
       "    }\n",
       "\n",
       "    .dataframe thead th {\n",
       "        text-align: right;\n",
       "    }\n",
       "</style>\n",
       "<table border=\"1\" class=\"dataframe\">\n",
       "  <thead>\n",
       "    <tr style=\"text-align: right;\">\n",
       "      <th></th>\n",
       "      <th>sepal length (cm)</th>\n",
       "      <th>sepal width (cm)</th>\n",
       "      <th>petal length (cm)</th>\n",
       "      <th>petal width (cm)</th>\n",
       "    </tr>\n",
       "  </thead>\n",
       "  <tbody>\n",
       "    <tr>\n",
       "      <td>0</td>\n",
       "      <td>5.1</td>\n",
       "      <td>3.5</td>\n",
       "      <td>1.4</td>\n",
       "      <td>0.2</td>\n",
       "    </tr>\n",
       "    <tr>\n",
       "      <td>1</td>\n",
       "      <td>4.9</td>\n",
       "      <td>3.0</td>\n",
       "      <td>1.4</td>\n",
       "      <td>0.2</td>\n",
       "    </tr>\n",
       "    <tr>\n",
       "      <td>2</td>\n",
       "      <td>4.7</td>\n",
       "      <td>3.2</td>\n",
       "      <td>1.3</td>\n",
       "      <td>0.2</td>\n",
       "    </tr>\n",
       "    <tr>\n",
       "      <td>3</td>\n",
       "      <td>4.6</td>\n",
       "      <td>3.1</td>\n",
       "      <td>1.5</td>\n",
       "      <td>0.2</td>\n",
       "    </tr>\n",
       "    <tr>\n",
       "      <td>4</td>\n",
       "      <td>5.0</td>\n",
       "      <td>3.6</td>\n",
       "      <td>1.4</td>\n",
       "      <td>0.2</td>\n",
       "    </tr>\n",
       "    <tr>\n",
       "      <td>...</td>\n",
       "      <td>...</td>\n",
       "      <td>...</td>\n",
       "      <td>...</td>\n",
       "      <td>...</td>\n",
       "    </tr>\n",
       "    <tr>\n",
       "      <td>145</td>\n",
       "      <td>6.7</td>\n",
       "      <td>3.0</td>\n",
       "      <td>5.2</td>\n",
       "      <td>2.3</td>\n",
       "    </tr>\n",
       "    <tr>\n",
       "      <td>146</td>\n",
       "      <td>6.3</td>\n",
       "      <td>2.5</td>\n",
       "      <td>5.0</td>\n",
       "      <td>1.9</td>\n",
       "    </tr>\n",
       "    <tr>\n",
       "      <td>147</td>\n",
       "      <td>6.5</td>\n",
       "      <td>3.0</td>\n",
       "      <td>5.2</td>\n",
       "      <td>2.0</td>\n",
       "    </tr>\n",
       "    <tr>\n",
       "      <td>148</td>\n",
       "      <td>6.2</td>\n",
       "      <td>3.4</td>\n",
       "      <td>5.4</td>\n",
       "      <td>2.3</td>\n",
       "    </tr>\n",
       "    <tr>\n",
       "      <td>149</td>\n",
       "      <td>5.9</td>\n",
       "      <td>3.0</td>\n",
       "      <td>5.1</td>\n",
       "      <td>1.8</td>\n",
       "    </tr>\n",
       "  </tbody>\n",
       "</table>\n",
       "<p>150 rows × 4 columns</p>\n",
       "</div>"
      ],
      "text/plain": [
       "     sepal length (cm)  sepal width (cm)  petal length (cm)  petal width (cm)\n",
       "0                  5.1               3.5                1.4               0.2\n",
       "1                  4.9               3.0                1.4               0.2\n",
       "2                  4.7               3.2                1.3               0.2\n",
       "3                  4.6               3.1                1.5               0.2\n",
       "4                  5.0               3.6                1.4               0.2\n",
       "..                 ...               ...                ...               ...\n",
       "145                6.7               3.0                5.2               2.3\n",
       "146                6.3               2.5                5.0               1.9\n",
       "147                6.5               3.0                5.2               2.0\n",
       "148                6.2               3.4                5.4               2.3\n",
       "149                5.9               3.0                5.1               1.8\n",
       "\n",
       "[150 rows x 4 columns]"
      ]
     },
     "execution_count": 11,
     "metadata": {},
     "output_type": "execute_result"
    }
   ],
   "source": [
    "df"
   ]
  },
  {
   "cell_type": "markdown",
   "metadata": {},
   "source": [
    "# Exercise 1.2:"
   ]
  },
  {
   "cell_type": "code",
   "execution_count": 12,
   "metadata": {},
   "outputs": [
    {
     "name": "stdout",
     "output_type": "stream",
     "text": [
      "     sepal length  petal length\n",
      "0             5.1           1.4\n",
      "1             4.9           1.4\n",
      "2             4.7           1.3\n",
      "3             4.6           1.5\n",
      "4             5.0           1.4\n",
      "..            ...           ...\n",
      "145           6.7           5.2\n",
      "146           6.3           5.0\n",
      "147           6.5           5.2\n",
      "148           6.2           5.4\n",
      "149           5.9           5.1\n",
      "\n",
      "[150 rows x 2 columns]\n"
     ]
    }
   ],
   "source": [
    "X= df['sepal length (cm)']\n",
    "Y= df['petal length (cm)']\n",
    "Slic_df = pd.DataFrame({'sepal length': X, 'petal length': Y})\n",
    "print(Slic_df) # هنا اخذ عمودين فقط واعطاها اسم غير عشان ما تأثر على باقي البيانات  "
   ]
  },
  {
   "cell_type": "markdown",
   "metadata": {},
   "source": [
    "# Exercise 1.3\n",
    "### Regression Function: Multiple linear regression\n",
    "### Intercept:  -7.10144337\n",
    "### Slope (Coefficients)  : 1.85843298"
   ]
  },
  {
   "cell_type": "code",
   "execution_count": 17,
   "metadata": {},
   "outputs": [
    {
     "name": "stdout",
     "output_type": "stream",
     "text": [
      "[[2.37656482]\n",
      " [2.00487822]\n",
      " [1.63319163]\n",
      " [1.44734833]\n",
      " [2.19072152]\n",
      " [2.93409471]\n",
      " [1.44734833]\n",
      " [2.19072152]\n",
      " [1.07566173]\n",
      " [2.00487822]\n",
      " [2.93409471]\n",
      " [1.81903493]\n",
      " [1.81903493]\n",
      " [0.88981844]\n",
      " [3.6774679 ]\n",
      " [3.49162461]\n",
      " [2.93409471]\n",
      " [2.37656482]\n",
      " [3.49162461]\n",
      " [2.37656482]\n",
      " [2.93409471]\n",
      " [2.37656482]\n",
      " [1.44734833]\n",
      " [2.37656482]\n",
      " [1.81903493]\n",
      " [2.19072152]\n",
      " [2.19072152]\n",
      " [2.56240812]\n",
      " [2.56240812]\n",
      " [1.63319163]\n",
      " [1.81903493]\n",
      " [2.93409471]\n",
      " [2.56240812]\n",
      " [3.11993801]\n",
      " [2.00487822]\n",
      " [2.19072152]\n",
      " [3.11993801]\n",
      " [2.00487822]\n",
      " [1.07566173]\n",
      " [2.37656482]\n",
      " [2.19072152]\n",
      " [1.26150503]\n",
      " [1.07566173]\n",
      " [2.19072152]\n",
      " [2.37656482]\n",
      " [1.81903493]\n",
      " [2.37656482]\n",
      " [1.44734833]\n",
      " [2.74825142]\n",
      " [2.19072152]\n",
      " [5.90758748]\n",
      " [4.79252769]\n",
      " [5.72174418]\n",
      " [3.11993801]\n",
      " [4.97837099]\n",
      " [3.49162461]\n",
      " [4.60668439]\n",
      " [2.00487822]\n",
      " [5.16421429]\n",
      " [2.56240812]\n",
      " [2.19072152]\n",
      " [3.8633112 ]\n",
      " [4.0491545 ]\n",
      " [4.2349978 ]\n",
      " [3.30578131]\n",
      " [5.35005758]\n",
      " [3.30578131]\n",
      " [3.6774679 ]\n",
      " [4.4208411 ]\n",
      " [3.30578131]\n",
      " [3.8633112 ]\n",
      " [4.2349978 ]\n",
      " [4.60668439]\n",
      " [4.2349978 ]\n",
      " [4.79252769]\n",
      " [5.16421429]\n",
      " [5.53590088]\n",
      " [5.35005758]\n",
      " [4.0491545 ]\n",
      " [3.49162461]\n",
      " [3.11993801]\n",
      " [3.11993801]\n",
      " [3.6774679 ]\n",
      " [4.0491545 ]\n",
      " [2.93409471]\n",
      " [4.0491545 ]\n",
      " [5.35005758]\n",
      " [4.60668439]\n",
      " [3.30578131]\n",
      " [3.11993801]\n",
      " [3.11993801]\n",
      " [4.2349978 ]\n",
      " [3.6774679 ]\n",
      " [2.19072152]\n",
      " [3.30578131]\n",
      " [3.49162461]\n",
      " [3.49162461]\n",
      " [4.4208411 ]\n",
      " [2.37656482]\n",
      " [3.49162461]\n",
      " [4.60668439]\n",
      " [3.6774679 ]\n",
      " [6.09343078]\n",
      " [4.60668439]\n",
      " [4.97837099]\n",
      " [7.02264727]\n",
      " [2.00487822]\n",
      " [6.46511737]\n",
      " [5.35005758]\n",
      " [6.27927407]\n",
      " [4.97837099]\n",
      " [4.79252769]\n",
      " [5.53590088]\n",
      " [3.49162461]\n",
      " [3.6774679 ]\n",
      " [4.79252769]\n",
      " [4.97837099]\n",
      " [7.20849056]\n",
      " [7.20849056]\n",
      " [4.0491545 ]\n",
      " [5.72174418]\n",
      " [3.30578131]\n",
      " [7.20849056]\n",
      " [4.60668439]\n",
      " [5.35005758]\n",
      " [6.27927407]\n",
      " [4.4208411 ]\n",
      " [4.2349978 ]\n",
      " [4.79252769]\n",
      " [6.27927407]\n",
      " [6.65096067]\n",
      " [7.58017716]\n",
      " [4.79252769]\n",
      " [4.60668439]\n",
      " [4.2349978 ]\n",
      " [7.20849056]\n",
      " [4.60668439]\n",
      " [4.79252769]\n",
      " [4.0491545 ]\n",
      " [5.72174418]\n",
      " [5.35005758]\n",
      " [5.72174418]\n",
      " [3.6774679 ]\n",
      " [5.53590088]\n",
      " [5.35005758]\n",
      " [5.35005758]\n",
      " [4.60668439]\n",
      " [4.97837099]\n",
      " [4.4208411 ]\n",
      " [3.8633112 ]]\n",
      "Coefficients: \n",
      " [[1.85843298]]\n",
      "Intercept: \n",
      " [-7.10144337]\n"
     ]
    }
   ],
   "source": [
    "y_pred = classifier.predict(Slic_df[['sepal length']]) #هنا تنبؤ بريديكت\n",
    "print(y_pred)\n",
    "print('Coefficients: \\n', classifier.coef_)\n",
    "print('Intercept: \\n', classifier.intercept_)"
   ]
  },
  {
   "cell_type": "markdown",
   "metadata": {},
   "source": [
    "# Exercise 1.4\n",
    "## Plot your figure here! "
   ]
  },
  {
   "cell_type": "code",
   "execution_count": 22,
   "metadata": {},
   "outputs": [
    {
     "data": {
      "image/png": "[encoded data removed]",
      "text/plain": [
       "<Figure size 432x288 with 1 Axes>"
      ]
     },
     "metadata": {
      "needs_background": "light"
     },
     "output_type": "display_data"
    },
    {
     "name": "stdout",
     "output_type": "stream",
     "text": [
      "Coefficients: \n",
      " [[5.41208791]]\n",
      "Intercept: \n",
      " [-33.37912088]\n"
     ]
    }
   ],
   "source": [
    "df2 = pd.DataFrame({'col1': [19, 20,21,22,23,24,25,26,27,28,29,30,31], \n",
    "                    'col2': [36,70,48,119,51,205,133,112,92,99,96,154,110]})\n",
    "classifier = LinearRegression()\n",
    "classifier.fit(df2[['col1']],df2[['col2']])\n",
    "y_predict = classifier.predict(df2[['col1']])\n",
    "plt.scatter(df2[['col1']], df2[['col2']], color = \"m\", marker = \"o\", s = 30) \n",
    "plt.plot(df2[['col1']], y_predict, color = \"g\") \n",
    "plt.xlabel('x') \n",
    "plt.ylabel('y') \n",
    "plt.title('title')\n",
    "plt.show()\n",
    "print('Coefficients: \\n', classifier.coef_)\n",
    "print('Intercept: \\n', classifier.intercept_)"
   ]
  },
  {
   "cell_type": "markdown",
   "metadata": {},
   "source": [
    "# Exercise 1.5\n",
    "### What is the predicted value of the day [18.03.2020]? The predicted of cases 64.03846154 = 64 cases\n",
    "### Is your model accurate? Almost accurate, because it is very close to reality"
   ]
  },
  {
   "cell_type": "code",
   "execution_count": 45,
   "metadata": {},
   "outputs": [
    {
     "name": "stdout",
     "output_type": "stream",
     "text": [
      "[[64.03846154]]\n"
     ]
    }
   ],
   "source": [
    "Day_18 = classifier.intercept_+ classifier.coef_ * 18 \n",
    "print(Day_18) # هنا تنبؤ بعدد الاصابات في يوم رقم 18 "
   ]
  },
  {
   "cell_type": "markdown",
   "metadata": {},
   "source": [
    "# Exercise 1.6"
   ]
  },
  {
   "cell_type": "code",
   "execution_count": 26,
   "metadata": {},
   "outputs": [
    {
     "name": "stdout",
     "output_type": "stream",
     "text": [
      "Mean absolute error: \n",
      "31.163144547759927\n"
     ]
    },
    {
     "data": {
      "image/png": "[encoded data removed]",
      "text/plain": [
       "<Figure size 432x288 with 1 Axes>"
      ]
     },
     "metadata": {
      "needs_background": "light"
     },
     "output_type": "display_data"
    }
   ],
   "source": [
    "\n",
    "print(\"Mean absolute error: \")\n",
    "print(mean_absolute_error(df2['col2'], y_predict))\n",
    "plt.scatter(y_predict, (df2[['col2']] - y_predict), color = \"blue\", s = 10,) \n",
    "plt.title(\"Absolute Errors\")\n",
    "plt.hlines(y = 0, xmin = 0, xmax = 140, linewidth = 2) \n",
    "plt.xlabel('predicted values')\n",
    "plt.ylabel('absolute error')\n",
    "plt.show()"
   ]
  },
  {
   "cell_type": "markdown",
   "metadata": {},
   "source": [
    "# Exercise 2.1"
   ]
  },
  {
   "cell_type": "code",
   "execution_count": 30,
   "metadata": {},
   "outputs": [
    {
     "name": "stdout",
     "output_type": "stream",
     "text": [
      "Score: \n",
      " 0.6933333333333334\n",
      "Coefficients: \n",
      " [[-0.86959145]\n",
      " [ 0.01223362]\n",
      " [ 0.57972675]]\n",
      "Intercept: \n",
      " [ 4.16186636 -0.74244291 -3.9921824 ]\n"
     ]
    }
   ],
   "source": [
    "from sklearn.linear_model import LogisticRegression\n",
    "X = Slic_df[['sepal length']] \n",
    "y = df['Species'] \n",
    "log_regression = LogisticRegression(solver = 'liblinear', multi_class = 'ovr')\n",
    "log_regression.fit(X, y)\n",
    "pred = log_regression.predict(X)\n",
    "print('Score: \\n', log_regression.score(X, y)) \n",
    "print('Coefficients: \\n', log_regression.coef_)\n",
    "print('Intercept: \\n', log_regression.intercept_)\n",
    "#السكور هو نسبة الدقة وهنا يعني 69% نسبة \n",
    "#الناتج الصف الاول اقارنه مع العمود الاول وكمل على الباقي "
   ]
  },
  {
   "cell_type": "markdown",
   "metadata": {},
   "source": [
    "# Exercise 2.2"
   ]
  },
  {
   "cell_type": "code",
   "execution_count": 31,
   "metadata": {},
   "outputs": [
    {
     "name": "stdout",
     "output_type": "stream",
     "text": [
      "X: \n",
      "    sepal length (cm)  sepal width (cm)  petal length (cm)  petal width (cm)\n",
      "0                5.1               3.5                1.4               0.2\n",
      "1                4.9               3.0                1.4               0.2\n",
      "2                4.7               3.2                1.3               0.2\n",
      "3                4.6               3.1                1.5               0.2\n",
      "4                5.0               3.6                1.4               0.2 \n",
      "\n",
      "y: \n",
      " 0    setosa\n",
      "1    setosa\n",
      "2    setosa\n",
      "3    setosa\n",
      "4    setosa\n",
      "Name: Species, dtype: object \n",
      "\n",
      "Score: \n",
      " 0.96\n",
      "Coefficients: \n",
      " [[ 0.41021713  1.46416217 -2.26003266 -1.02103509]\n",
      " [ 0.4275087  -1.61211605  0.5758173  -1.40617325]\n",
      " [-1.70751526 -1.53427768  2.47096755  2.55537041]]\n",
      "Intercept: \n",
      " [ 0.26421853  1.09392467 -1.21470917]\n"
     ]
    }
   ],
   "source": [
    "X = df.iloc[:, 0:4] #خذ كل البيانات حتى العمود الرابع \n",
    "y=df['Species']\n",
    "print('X: \\n', X.head(), '\\n')\n",
    "print('y: \\n', y.head(), '\\n')\n",
    "from sklearn.linear_model import LogisticRegression\n",
    "classifier3 = LogisticRegression( solver = 'liblinear', multi_class = 'ovr')\n",
    "classifier3.fit(X, y)\n",
    "y_pred = classifier3.predict(X)\n",
    "#الواي هو التارقيت \n",
    "print('Score: \\n', classifier3.score(X, y))\n",
    "print('Coefficients: \\n', classifier3.coef_)\n",
    "print('Intercept: \\n', classifier3.intercept_)\n",
    "#اذا ماعرض قيمة العمود يعني قيمة صفريه "
   ]
  }
 ],
 "metadata": {
  "kernelspec": {
   "display_name": "Python 3",
   "language": "python",
   "name": "python3"
  },
  "language_info": {
   "codemirror_mode": {
    "name": "ipython",
    "version": 3
   },
   "file_extension": ".py",
   "mimetype": "text/x-python",
   "name": "python",
   "nbconvert_exporter": "python",
   "pygments_lexer": "ipython3",
   "version": "3.7.4"
  }
 },
 "nbformat": 4,
 "nbformat_minor": 2
}
