{
 "cells": [
  {
   "cell_type": "markdown",
   "metadata": {
    "slideshow": {
     "slide_type": "-"
    }
   },
   "source": [
    "> # Home Work1\n",
    ">\n",
    "> ### \\begin{equation} f(x) = a_0 + \\sum_{n=1}^{\\infty} \\bigl(a_n \\cos\\frac{n \\pi x}{L} + b_n\\sin\\frac{n \\pi x}{L}\\bigr)  \\end{equation}\n",
    ">\n",
    "> ------------------------------\n",
    ">\n",
    "> ### \\begin{equation} (x + a)^n = \\sum_{k=0}^{n}\\binom{n}{k} x^k a^{n-k} \\end{equation} \n",
    ">\n",
    "> -----------------------------\n",
    "\\begin{equation}\\sum_{c=2} ^{n} x_i \\end{equation}"
   ]
  }
 ],
 "metadata": {
  "celltoolbar": "Slideshow",
  "kernelspec": {
   "display_name": "Python 3",
   "language": "python",
   "name": "python3"
  },
  "language_info": {
   "codemirror_mode": {
    "name": "ipython",
    "version": 3
   },
   "file_extension": ".py",
   "mimetype": "text/x-python",
   "name": "python",
   "nbconvert_exporter": "python",
   "pygments_lexer": "ipython3",
   "version": "3.7.4"
  }
 },
 "nbformat": 4,
 "nbformat_minor": 2
}
