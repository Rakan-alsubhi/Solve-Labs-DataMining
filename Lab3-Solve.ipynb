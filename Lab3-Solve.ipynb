{
 "cells": [
  {
   "cell_type": "markdown",
   "metadata": {},
   "source": [
    "# 1.Passing Variables by value and reference "
   ]
  },
  {
   "cell_type": "markdown",
   "metadata": {},
   "source": [
    "# Example 1.1"
   ]
  },
  {
   "cell_type": "code",
   "execution_count": 4,
   "metadata": {},
   "outputs": [
    {
     "name": "stdout",
     "output_type": "stream",
     "text": [
      "Welcome !\n",
      "My fiverote # is  7\n"
     ]
    }
   ],
   "source": [
    "def conform(fav):\n",
    "    fav = 42\n",
    "    return fav\n",
    "if __name__== \"__main__\" :\n",
    "    print(\"Welcome !\")\n",
    "    fav = 7 \n",
    "    conform(fav)\n",
    "    print(\"My fiverote # is \" , fav)\n",
    "    #In the main function, Did the value of fav variable change after invoking the main function?? \n",
    "    ## No,Don't chanage \n",
    "    #Can you explain the reason behind that?? \n",
    "    ## Because use diffrent address for each varieble"
   ]
  },
  {
   "cell_type": "markdown",
   "metadata": {},
   "source": [
    "# Example 1.2"
   ]
  },
  {
   "cell_type": "code",
   "execution_count": 6,
   "metadata": {},
   "outputs": [
    {
     "name": "stdout",
     "output_type": "stream",
     "text": [
      "Inside the function {'A': 28, 'B': 25, 'C': 32, 'D': 25, 'E': 30, 'F': 28}\n",
      "outside the function :  {'A': 28, 'B': 25, 'C': 32, 'D': 25, 'E': 30, 'F': 28}\n"
     ]
    }
   ],
   "source": [
    "student={'A' :28,'B' :25,'C' :32, 'D' :25}\n",
    "def test(student):\n",
    "    new={'E':30,'F':28}\n",
    "    student.update(new)\n",
    "    print(\"Inside the function\",student)\n",
    "    return \n",
    "test(student)\n",
    "print(\"outside the function : \" , student)\n",
    "#Are the outputs same in both call? Write your observation below ? \n",
    "## Yes, output are both same \n",
    "#Can you explain the difference between the outputs of Example 1 and Example 2??\n",
    "## Example 1 : is use deffrint address for each, Example 2: is the same address for each varieble so are change "
   ]
  },
  {
   "cell_type": "markdown",
   "metadata": {},
   "source": [
    "# 2.Python Classes"
   ]
  },
  {
   "cell_type": "markdown",
   "metadata": {},
   "source": [
    "# Exercise 2.1"
   ]
  },
  {
   "cell_type": "code",
   "execution_count": 10,
   "metadata": {},
   "outputs": [
    {
     "name": "stdout",
     "output_type": "stream",
     "text": [
      "Rakan Alsubhi\n"
     ]
    }
   ],
   "source": [
    "class student :\n",
    "    def __init__(self,name):\n",
    "        self.name=name\n",
    "        self.course_list= []\n",
    "std=student(\"Rakan Alsubhi\")\n",
    "print(std.name)"
   ]
  },
  {
   "cell_type": "markdown",
   "metadata": {},
   "source": [
    "# 2.1.Methods "
   ]
  },
  {
   "cell_type": "markdown",
   "metadata": {},
   "source": [
    "# Exercise 2.2 \n",
    "### I was used append with first Example because I can insert more than one values."
   ]
  },
  {
   "cell_type": "markdown",
   "metadata": {},
   "source": [
    "# Exercise 2.3 "
   ]
  },
  {
   "cell_type": "code",
   "execution_count": 11,
   "metadata": {},
   "outputs": [
    {
     "name": "stdout",
     "output_type": "stream",
     "text": [
      "['Python', 'Datamining', 'Math']\n",
      "Rakan Alsubhi\n",
      "['Datamining', 'Math']\n"
     ]
    }
   ],
   "source": [
    "class student: \n",
    "    def __init__(self,name):\n",
    "        self.name=name\n",
    "        self.course_list=[]\n",
    "    def add(self,new_course):\n",
    "        self.course_list.append(new_course)\n",
    "    def remove(self,course_list):\n",
    "        self.course_list.remove(course_list)\n",
    "std=student(\"Rakan Alsubhi\")\n",
    "std.add(\"Python\")\n",
    "std.add(\"Datamining\")\n",
    "std.add(\"Math\")\n",
    "print(std.course_list)\n",
    "std.remove(\"Python\")\n",
    "print(std.name)\n",
    "print(std.course_list)"
   ]
  },
  {
   "cell_type": "markdown",
   "metadata": {},
   "source": [
    "# 2.2.Inheritance "
   ]
  },
  {
   "cell_type": "markdown",
   "metadata": {},
   "source": [
    "# Exercise 2.4\n",
    "### use all inside of above class to add to inside in class used key word \"Pass\""
   ]
  },
  {
   "cell_type": "markdown",
   "metadata": {},
   "source": [
    "# Exercise 2.5"
   ]
  },
  {
   "cell_type": "code",
   "execution_count": 12,
   "metadata": {},
   "outputs": [
    {
     "name": "stdout",
     "output_type": "stream",
     "text": [
      "Rakan Alsubhi\n"
     ]
    }
   ],
   "source": [
    "class Person:\n",
    "    def __init__(self, Fname, Lname):\n",
    "        self.FristName = Fname\n",
    "        self.LastName = Lname       \n",
    "    def printname(self):\n",
    "        print(self.FristName, self.LastName)\n",
    "class Profesor(Person):\n",
    "    def __init__(self,Fname,Lname):\n",
    "        Person.__init__(self, Fname, Lname)\n",
    "Prnt = Profesor(\"Rakan\",\"Alsubhi\")\n",
    "Prnt.printname()"
   ]
  },
  {
   "cell_type": "markdown",
   "metadata": {},
   "source": [
    "# Exercise 2.3"
   ]
  },
  {
   "cell_type": "code",
   "execution_count": 13,
   "metadata": {},
   "outputs": [
    {
     "name": "stdout",
     "output_type": "stream",
     "text": [
      "Rakan Alsubhi\n",
      "1\n"
     ]
    }
   ],
   "source": [
    "class Person:\n",
    "    def __init__(self, Fname, Lname):\n",
    "        self.FristName = Fname\n",
    "        self.LastName = Lname       \n",
    "    def printname(self):\n",
    "        print(self.FristName, self.LastName)\n",
    "\n",
    "class Profesor(Person):\n",
    "    def __init__(self,Fname,Lname,ID):\n",
    "        Person.__init__(self, Fname, Lname)\n",
    "        self.ID = ID     \n",
    "Prnt = Profesor(\"Rakan\",\"Alsubhi\",1)\n",
    "Prnt.printname()\n",
    "print(Prnt.ID)"
   ]
  }
 ],
 "metadata": {
  "kernelspec": {
   "display_name": "Python 3",
   "language": "python",
   "name": "python3"
  },
  "language_info": {
   "codemirror_mode": {
    "name": "ipython",
    "version": 3
   },
   "file_extension": ".py",
   "mimetype": "text/x-python",
   "name": "python",
   "nbconvert_exporter": "python",
   "pygments_lexer": "ipython3",
   "version": "3.7.4"
  }
 },
 "nbformat": 4,
 "nbformat_minor": 2
}
