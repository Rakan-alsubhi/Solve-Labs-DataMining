{
 "cells": [
  {
   "cell_type": "code",
   "execution_count": 2,
   "metadata": {},
   "outputs": [],
   "source": [
    "from mlxtend.frequent_patterns import apriori"
   ]
  },
  {
   "cell_type": "markdown",
   "metadata": {},
   "source": [
    "# Exercise 1.1"
   ]
  },
  {
   "cell_type": "code",
   "execution_count": 10,
   "metadata": {},
   "outputs": [],
   "source": [
    "dataset = [['Drink', 'Nuts', 'Diaper'],\n",
    "           ['Drink', 'Coffee', 'Diaper'],\n",
    "           ['Drink', 'Diaper', 'Eggs'],\n",
    "           ['Nuts', 'Eggs', 'Milk'],\n",
    "           ['Nuts', 'Coffee', 'Diaper', 'Eggs', 'Milk']]"
   ]
  },
  {
   "cell_type": "code",
   "execution_count": 11,
   "metadata": {},
   "outputs": [
    {
     "data": {
      "text/plain": [
       "[['Drink', 'Nuts', 'Diaper'],\n",
       " ['Drink', 'Coffee', 'Diaper'],\n",
       " ['Drink', 'Diaper', 'Eggs'],\n",
       " ['Nuts', 'Eggs', 'Milk'],\n",
       " ['Nuts', 'Coffee', 'Diaper', 'Eggs', 'Milk']]"
      ]
     },
     "execution_count": 11,
     "metadata": {},
     "output_type": "execute_result"
    }
   ],
   "source": [
    "dataset"
   ]
  },
  {
   "cell_type": "markdown",
   "metadata": {},
   "source": [
    "# Exercise 1.2"
   ]
  },
  {
   "cell_type": "code",
   "execution_count": 12,
   "metadata": {},
   "outputs": [],
   "source": [
    "import pandas as pd\n",
    "from mlxtend.preprocessing import TransactionEncoder\n",
    "\n",
    "TranEncod = TransactionEncoder()\n",
    "te_ary = TranEncod.fit(dataset).transform(dataset) #هنا انشاء اراي واحد فيها الداتا ست اللي عندي\n",
    "df = pd.DataFrame(te_ary, columns=TranEncod.columns_)"
   ]
  },
  {
   "cell_type": "code",
   "execution_count": 13,
   "metadata": {},
   "outputs": [
    {
     "data": {
      "text/html": [
       "<div>\n",
       "<style scoped>\n",
       "    .dataframe tbody tr th:only-of-type {\n",
       "        vertical-align: middle;\n",
       "    }\n",
       "\n",
       "    .dataframe tbody tr th {\n",
       "        vertical-align: top;\n",
       "    }\n",
       "\n",
       "    .dataframe thead th {\n",
       "        text-align: right;\n",
       "    }\n",
       "</style>\n",
       "<table border=\"1\" class=\"dataframe\">\n",
       "  <thead>\n",
       "    <tr style=\"text-align: right;\">\n",
       "      <th></th>\n",
       "      <th>Coffee</th>\n",
       "      <th>Diaper</th>\n",
       "      <th>Drink</th>\n",
       "      <th>Eggs</th>\n",
       "      <th>Milk</th>\n",
       "      <th>Nuts</th>\n",
       "    </tr>\n",
       "  </thead>\n",
       "  <tbody>\n",
       "    <tr>\n",
       "      <td>0</td>\n",
       "      <td>False</td>\n",
       "      <td>True</td>\n",
       "      <td>True</td>\n",
       "      <td>False</td>\n",
       "      <td>False</td>\n",
       "      <td>True</td>\n",
       "    </tr>\n",
       "    <tr>\n",
       "      <td>1</td>\n",
       "      <td>True</td>\n",
       "      <td>True</td>\n",
       "      <td>True</td>\n",
       "      <td>False</td>\n",
       "      <td>False</td>\n",
       "      <td>False</td>\n",
       "    </tr>\n",
       "    <tr>\n",
       "      <td>2</td>\n",
       "      <td>False</td>\n",
       "      <td>True</td>\n",
       "      <td>True</td>\n",
       "      <td>True</td>\n",
       "      <td>False</td>\n",
       "      <td>False</td>\n",
       "    </tr>\n",
       "    <tr>\n",
       "      <td>3</td>\n",
       "      <td>False</td>\n",
       "      <td>False</td>\n",
       "      <td>False</td>\n",
       "      <td>True</td>\n",
       "      <td>True</td>\n",
       "      <td>True</td>\n",
       "    </tr>\n",
       "    <tr>\n",
       "      <td>4</td>\n",
       "      <td>True</td>\n",
       "      <td>True</td>\n",
       "      <td>False</td>\n",
       "      <td>True</td>\n",
       "      <td>True</td>\n",
       "      <td>True</td>\n",
       "    </tr>\n",
       "  </tbody>\n",
       "</table>\n",
       "</div>"
      ],
      "text/plain": [
       "   Coffee  Diaper  Drink   Eggs   Milk   Nuts\n",
       "0   False    True   True  False  False   True\n",
       "1    True    True   True  False  False  False\n",
       "2   False    True   True   True  False  False\n",
       "3   False   False  False   True   True   True\n",
       "4    True    True  False   True   True   True"
      ]
     },
     "execution_count": 13,
     "metadata": {},
     "output_type": "execute_result"
    }
   ],
   "source": [
    "df"
   ]
  },
  {
   "cell_type": "markdown",
   "metadata": {},
   "source": [
    "# Exercise 1.3"
   ]
  },
  {
   "cell_type": "markdown",
   "metadata": {},
   "source": [
    "### P(B|A) = |B∩A| / |A| \n",
    "#### Drink=3 Nuts=3 Eggs=3 Diaper=4 Milk=2 Coffee=2 \n",
    "##### Drink-Diaper=3/3*100=100% \n",
    "##### Diaper- Drink=3/4*100=75% \n",
    "##### Diaper-Nuts=2/4*100=50% \n",
    "##### Diaper-coffee=2/4*100=50% \n",
    "##### Diaper-eggs=2/4*100=50% \n",
    "##### Nuts- Diaper=2/3*100=66.5% \n",
    "##### Nuts-Milke=2/3*100=66.5% \n",
    "##### Nuts-eggs=2/3*100=66.5% \n",
    "##### Coffee- Diaper=2/2*100=100% \n",
    "##### Eggs- Diaper=2/3*100=66.5% \n",
    "##### Eggs-Nuts=2/3*100=66.5% \n",
    "##### Eggs-Milke =2/3*100=66.5%"
   ]
  }
 ],
 "metadata": {
  "kernelspec": {
   "display_name": "Python 3",
   "language": "python",
   "name": "python3"
  },
  "language_info": {
   "codemirror_mode": {
    "name": "ipython",
    "version": 3
   },
   "file_extension": ".py",
   "mimetype": "text/x-python",
   "name": "python",
   "nbconvert_exporter": "python",
   "pygments_lexer": "ipython3",
   "version": "3.7.4"
  }
 },
 "nbformat": 4,
 "nbformat_minor": 2
}
