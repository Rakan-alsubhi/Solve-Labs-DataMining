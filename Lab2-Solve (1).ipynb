{
 "cells": [
  {
   "cell_type": "code",
   "execution_count": 4,
   "metadata": {},
   "outputs": [
    {
     "name": "stdout",
     "output_type": "stream",
     "text": [
      "Rakan alsubhi\n"
     ]
    }
   ],
   "source": [
    "#This is note on Code\n",
    "print(\"Rakan alsubhi\")"
   ]
  },
  {
   "cell_type": "markdown",
   "metadata": {},
   "source": [
    "# This is Header (Big font) on markdown"
   ]
  },
  {
   "cell_type": "markdown",
   "metadata": {},
   "source": [
    "# Exercise 1"
   ]
  },
  {
   "cell_type": "code",
   "execution_count": 6,
   "metadata": {},
   "outputs": [
    {
     "name": "stdout",
     "output_type": "stream",
     "text": [
      "Hello, World!!\n"
     ]
    }
   ],
   "source": [
    "if __name__==\"__main__\":\n",
    "    print(\"Hello, World!!\")"
   ]
  },
  {
   "cell_type": "markdown",
   "metadata": {},
   "source": [
    "# Exercise 2"
   ]
  },
  {
   "cell_type": "code",
   "execution_count": 5,
   "metadata": {},
   "outputs": [
    {
     "name": "stdout",
     "output_type": "stream",
     "text": [
      "5\n",
      "1\n",
      "6\n",
      "1.5\n",
      "9\n",
      "1\n"
     ]
    }
   ],
   "source": [
    "print(3+2)\n",
    "print(3-2)\n",
    "print(3*2)\n",
    "print(3/2)\n",
    "print(3**2)\n",
    "print(3%2)"
   ]
  },
  {
   "cell_type": "markdown",
   "metadata": {},
   "source": [
    "# Exercise 3"
   ]
  },
  {
   "cell_type": "code",
   "execution_count": 3,
   "metadata": {},
   "outputs": [
    {
     "data": {
      "text/plain": [
       "False"
      ]
     },
     "execution_count": 3,
     "metadata": {},
     "output_type": "execute_result"
    }
   ],
   "source": [
    "X= 5 \n",
    "Y= 2**2 +1\n",
    "X==Y\n",
    "\n",
    "X,Y=5, 2**(2+1)\n",
    "X==Y"
   ]
  },
  {
   "cell_type": "markdown",
   "metadata": {},
   "source": [
    "# Exercise 4"
   ]
  },
  {
   "cell_type": "code",
   "execution_count": 29,
   "metadata": {},
   "outputs": [
    {
     "data": {
      "text/plain": [
       "False"
      ]
     },
     "execution_count": 29,
     "metadata": {},
     "output_type": "execute_result"
    }
   ],
   "source": [
    "def add(x,y):\n",
    "    return x==y\n",
    "add(2,5)"
   ]
  },
  {
   "cell_type": "markdown",
   "metadata": {},
   "source": [
    "# Exercise 5"
   ]
  },
  {
   "cell_type": "code",
   "execution_count": 7,
   "metadata": {},
   "outputs": [
    {
     "name": "stdout",
     "output_type": "stream",
     "text": [
      "33.510321638291124\n"
     ]
    }
   ],
   "source": [
    "import math\n",
    "def radius(r) :\n",
    "    V = (4/3)*math.pi*r**3\n",
    "    return V\n",
    "if __name__==\"__main__\":\n",
    "    print(radius(2))"
   ]
  },
  {
   "cell_type": "markdown",
   "metadata": {},
   "source": [
    "# Exercise 6"
   ]
  },
  {
   "cell_type": "code",
   "execution_count": 11,
   "metadata": {},
   "outputs": [
    {
     "name": "stdout",
     "output_type": "stream",
     "text": [
      "String “IS-372”! : IS-372\n",
      "What is the result of calling Course_Name[-1] : e\n",
      "Course_Name [:5] : IS-37\n",
      "Course_Name[6:] :  Data Mining & Data Warehouse\n"
     ]
    }
   ],
   "source": [
    "Course_Name='IS-372 Data Mining & Data Warehouse' \n",
    "print(\"String “IS-372”! : \"+Course_Name[:6])\n",
    "print(\"What is the result of calling Course_Name[-1] : \"+Course_Name[-1]) #type from end \n",
    "print(\"Course_Name [:5] : \"+Course_Name[:5])\n",
    "print(\"Course_Name[6:] : \"+Course_Name[6:])"
   ]
  },
  {
   "cell_type": "markdown",
   "metadata": {},
   "source": [
    "# List 1.4"
   ]
  },
  {
   "cell_type": "code",
   "execution_count": 22,
   "metadata": {},
   "outputs": [
    {
     "name": "stdout",
     "output_type": "stream",
     "text": [
      "my_list[0]  : Hello\n",
      "my_list[-2] : World\n",
      "['Hello', 93.8]\n"
     ]
    }
   ],
   "source": [
    "my_list=[\"Hello\",93.8,\"World\",10]\n",
    "print(\"my_list[0]  : \" +my_list[0])\n",
    "print(\"my_list[-2] : \" +my_list[-2])\n",
    "print(my_list[:2])"
   ]
  },
  {
   "cell_type": "markdown",
   "metadata": {},
   "source": [
    "# Common list methods (functions) include append(), insert(), remove(), and pop()."
   ]
  },
  {
   "cell_type": "code",
   "execution_count": 24,
   "metadata": {},
   "outputs": [
    {
     "name": "stdout",
     "output_type": "stream",
     "text": [
      "[1, 2]\n",
      "[1, 2, 4]\n",
      "[1, 2, 3, 4]\n",
      "[1, 2, 4]\n",
      "[1, 2]\n"
     ]
    }
   ],
   "source": [
    "my_list=[1,2]\n",
    "print(my_list)\n",
    "my_list.append(4)\n",
    "print(my_list)\n",
    "my_list.insert(2,3)\n",
    "print(my_list)\n",
    "my_list.remove(3)\n",
    "print(my_list)\n",
    "my_list.pop()\n",
    "print(my_list)"
   ]
  },
  {
   "cell_type": "markdown",
   "metadata": {},
   "source": [
    "# Exercise 7"
   ]
  },
  {
   "cell_type": "code",
   "execution_count": 27,
   "metadata": {},
   "outputs": [
    {
     "name": "stdout",
     "output_type": "stream",
     "text": [
      "['hawk', 'dog', 'fox', 'bear', 'hunter']\n"
     ]
    }
   ],
   "source": [
    "def list_ops():\n",
    "    \n",
    "    my_list=[\"bear\",\"ant\",\"cat\",\"dog\"]\n",
    "    my_list.append(\"eagle\")\n",
    "    my_list[2]=\"fox\"\n",
    "    my_list.pop(1)\n",
    "    my_list.reverse()\n",
    "    my_list[my_list.index(\"eagle\")]=\"hawk\"\n",
    "    my_list.insert(len(my_list),\"hunter\")\n",
    "    return my_list\n",
    "if __name__==\"__main__\":\n",
    "    print(list_ops())"
   ]
  },
  {
   "cell_type": "markdown",
   "metadata": {},
   "source": [
    "# Exercise 8"
   ]
  },
  {
   "cell_type": "code",
   "execution_count": 2,
   "metadata": {},
   "outputs": [
    {
     "name": "stdout",
     "output_type": "stream",
     "text": [
      "\n",
      "s\n",
      "st\n",
      "sta\n"
     ]
    }
   ],
   "source": [
    "s = \"stab\"\n",
    "for i in range(len(s)):\n",
    "    print(s[0 : i : 1])"
   ]
  }
 ],
 "metadata": {
  "kernelspec": {
   "display_name": "Python 3",
   "language": "python",
   "name": "python3"
  },
  "language_info": {
   "codemirror_mode": {
    "name": "ipython",
    "version": 3
   },
   "file_extension": ".py",
   "mimetype": "text/x-python",
   "name": "python",
   "nbconvert_exporter": "python",
   "pygments_lexer": "ipython3",
   "version": "3.7.4"
  }
 },
 "nbformat": 4,
 "nbformat_minor": 2
}
